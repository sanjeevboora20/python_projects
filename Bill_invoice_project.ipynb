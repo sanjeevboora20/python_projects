{
 "cells": [
  {
   "cell_type": "code",
   "execution_count": 1,
   "id": "55e4949a",
   "metadata": {},
   "outputs": [
    {
     "name": "stdout",
     "output_type": "stream",
     "text": [
      "Customer's Name:Boora\n",
      "Welcome to our store\n",
      "This is our products\n",
      "Orange 2$\n",
      "Apple 3$\n",
      "Grape 1$\n",
      "Banana 0.5$\n",
      "How many things do you want to buy: 2\n",
      "         BILL\n",
      "What do you want to buy: Apple\n",
      "How many of that do you want to buy: 10\n",
      "Apple      10   30$\n",
      "What do you want to buy: Banana\n",
      "How many of that do you want to buy: 12\n",
      "Banana     12   6.0$\n",
      "Total:     22 36.0$\n"
     ]
    }
   ],
   "source": [
    "customer = str(input(\"Customer's Name:\"))\n",
    "print (\"Welcome to our store\")\n",
    "print (\"This is our products\")\n",
    "print (\"Orange 2$\")\n",
    "print (\"Apple 3$\")\n",
    "print (\"Grape 1$\")\n",
    "print (\"Banana 0.5$\")\n",
    "prices = {\"orange\":2,\"apple\":3,\"grape\":1,\"banana\":0.5}# I added this so we can access the prices later on\n",
    "#chooseproducts= int(input(\"What do you want to buy: \"))\n",
    "# The code below this is what I added to calculate the cost.\n",
    "productnum = input(\"How many things do you want to buy: \") # This is for finding the number of different fruits the buyer wants\n",
    "while not productnum.isdigit():\n",
    "    productnum = input(\"How many different products do you want to buy: \")\n",
    "productnum = int(productnum)\n",
    "totalprice = 0\n",
    "totalfruit = 0\n",
    "print('         BILL')\n",
    "for i in range(productnum):\n",
    "    chosenproduct = input(\"What do you want to buy: \").lower()\n",
    "    while not chosenproduct in ['orange','apple','banana','grape']:\n",
    "        chosenproduct = input(\"What do you want to buy: \").lower()\n",
    "    fruitnum = input(\"How many of that do you want to buy: \")\n",
    "    while not fruitnum.isdigit():\n",
    "        fruitnum = input(\"How many of that do you want to buy: \")\n",
    "    fruitnum = int(fruitnum)\n",
    "    totalfruit += fruitnum\n",
    "    price = fruitnum * prices[chosenproduct]\n",
    "    totalprice += price\n",
    "    startspaces = ' ' * (11 - len(chosenproduct))\n",
    "    endspaces = ' ' * (5 - len(str(fruitnum)))\n",
    "    print(chosenproduct.capitalize() + startspaces + str(fruitnum) + endspaces + str(price) + '$')\n",
    "\n",
    "print('Total:     ' + str(totalfruit) + ' ' * (5 - len(str(totalprice))) + str(totalprice) + '$')"
   ]
  },
  {
   "cell_type": "code",
   "execution_count": null,
   "id": "fb5ba993",
   "metadata": {},
   "outputs": [],
   "source": []
  },
  {
   "cell_type": "code",
   "execution_count": null,
   "id": "8404b546",
   "metadata": {},
   "outputs": [],
   "source": []
  },
  {
   "cell_type": "markdown",
   "id": "955b8113",
   "metadata": {},
   "source": [
    "### Summary_Projecct"
   ]
  },
  {
   "cell_type": "code",
   "execution_count": 3,
   "id": "60639b9f",
   "metadata": {},
   "outputs": [
    {
     "name": "stdout",
     "output_type": "stream",
     "text": [
      "**************************************************\n",
      "\t\tThecleverprogrammer, Inc.\n",
      "\t\t144 Kalka Ji.\n",
      "\t\tNew Delhi\n",
      "==================================================\n",
      "\tProduct Name\tProduct Price\n",
      "\tBooks\t\t$50.95\n",
      "\tComputer\t$598.99\n",
      "\tMonitor\t\t$156.89\n",
      "==================================================\n",
      "\t\t\tTotal\n",
      "\t\t\t$806.83\n",
      "==================================================\n",
      "\n",
      "\tThanks for shopping with us today!\n",
      "\n",
      "**************************************************\n"
     ]
    }
   ],
   "source": [
    "# create a product and price for three items\n",
    "product1_name, product1_price = 'Books', 50.95\n",
    "product2_name, product2_price = 'Computer', 598.99\n",
    "product3_name, product3_price = 'Monitor', 156.89\n",
    "\n",
    "# create a company name and information\n",
    "company_name = 'Thecleverprogrammer, inc.'\n",
    "company_address = '144 Kalka ji.'\n",
    "company_city = 'New Delhi'\n",
    "\n",
    "# declare ending message\n",
    "message = 'Thanks for shopping with us today!'\n",
    "\n",
    "# create a top border\n",
    "print('*' * 50)\n",
    "\n",
    "# print company information first using format\n",
    "print('\\t\\t{}'.format(company_name.title()))\n",
    "print('\\t\\t{}'.format(company_address.title()))\n",
    "print('\\t\\t{}'.format(company_city.title()))\n",
    "\n",
    "# print a line between sections\n",
    "print('=' * 50)\n",
    "\n",
    "# print out header for section of items\n",
    "print('\\tProduct Name\\tProduct Price')\n",
    "\n",
    "# create a print statement for each item\n",
    "print('\\t{}\\t\\t${}'.format(product1_name.title(), product1_price))\n",
    "print('\\t{}\\t${}'.format(product2_name.title(), product2_price))\n",
    "print('\\t{}\\t\\t${}'.format(product3_name.title(), product3_price))\n",
    "\n",
    "# print a line between sections\n",
    "print('=' * 50)\n",
    "\n",
    "# print out header for section of total\n",
    "print('\\t\\t\\tTotal')\n",
    "\n",
    "# calculate total price and print out\n",
    "total = product1_price + product2_price + product3_price\n",
    "print('\\t\\t\\t${}'.format(total))\n",
    "\n",
    "# print a line between sections\n",
    "print('=' * 50)\n",
    "\n",
    "# output thank you message\n",
    "print('\\n\\t{}\\n'.format(message))\n",
    "\n",
    "# create a bottom border\n",
    "print('*' * 50)"
   ]
  },
  {
   "cell_type": "code",
   "execution_count": null,
   "id": "f37f4ed9",
   "metadata": {},
   "outputs": [],
   "source": []
  }
 ],
 "metadata": {
  "kernelspec": {
   "display_name": "Python 3 (ipykernel)",
   "language": "python",
   "name": "python3"
  },
  "language_info": {
   "codemirror_mode": {
    "name": "ipython",
    "version": 3
   },
   "file_extension": ".py",
   "mimetype": "text/x-python",
   "name": "python",
   "nbconvert_exporter": "python",
   "pygments_lexer": "ipython3",
   "version": "3.9.7"
  }
 },
 "nbformat": 4,
 "nbformat_minor": 5
}
