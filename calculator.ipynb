{
 "cells": [
  {
   "cell_type": "code",
   "execution_count": 1,
   "id": "a6279130",
   "metadata": {},
   "outputs": [
    {
     "name": "stdout",
     "output_type": "stream",
     "text": [
      "Enter first number : 5\n",
      "Enter second number : 6\n",
      "----press keys for operator (+,-,*,/,%)----------\n",
      "Enter operator : +\n",
      "11\n"
     ]
    }
   ],
   "source": [
    "#Calculator\n",
    "\n",
    "first = input(\"Enter first number : \")\n",
    "second = input(\"Enter second number : \")\n",
    "first = int(first)\n",
    "second = int(second)\n",
    "print(\"----press keys for operator (+,-,*,/,%)----------\")\n",
    "operator = input(\"Enter operator : \")\n",
    "\n",
    "if operator == \"+\":\n",
    "   print(first + second)\n",
    "elif operator == \"-\":\n",
    "   print(first - second)\n",
    "elif operator == \"*\":\n",
    "   print(first * second)\n",
    "elif operator == \"/\":\n",
    "   print(first / second)\n",
    "elif operator == \"%\":\n",
    "   print(first % second)\n",
    "else:\n",
    "   print(\"Invalid Operation\")\n"
   ]
  },
  {
   "cell_type": "code",
   "execution_count": null,
   "id": "d66d3673",
   "metadata": {},
   "outputs": [],
   "source": []
  }
 ],
 "metadata": {
  "kernelspec": {
   "display_name": "Python 3 (ipykernel)",
   "language": "python",
   "name": "python3"
  },
  "language_info": {
   "codemirror_mode": {
    "name": "ipython",
    "version": 3
   },
   "file_extension": ".py",
   "mimetype": "text/x-python",
   "name": "python",
   "nbconvert_exporter": "python",
   "pygments_lexer": "ipython3",
   "version": "3.9.7"
  }
 },
 "nbformat": 4,
 "nbformat_minor": 5
}
